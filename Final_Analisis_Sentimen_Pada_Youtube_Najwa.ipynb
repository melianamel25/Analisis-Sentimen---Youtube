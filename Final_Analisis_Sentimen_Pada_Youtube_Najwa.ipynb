{
  "nbformat": 4,
  "nbformat_minor": 0,
  "metadata": {
    "colab": {
      "provenance": []
    },
    "kernelspec": {
      "name": "python3",
      "display_name": "Python 3"
    },
    "language_info": {
      "name": "python"
    }
  },
  "cells": [
    {
      "cell_type": "markdown",
      "source": [
        "# **Analisis Sentimen Pada Tayangan Youtube [Eksklusif] Jurus Bertahan Khofifah - Emil | Mata Najwa**"
      ],
      "metadata": {
        "id": "sbTUFgr4OB-1"
      }
    },
    {
      "cell_type": "markdown",
      "source": [
        "**Data yang digunakan merupakan komentar dari video YouTube pada tautan berikut: *https://youtu.be/i4Uvxb8D4Sg?si=XwmUXm3C6LwVW_7z*, yang diambil menggunakan YouTube API V3.**"
      ],
      "metadata": {
        "id": "_UPlAxM3bFWE"
      }
    },
    {
      "cell_type": "markdown",
      "source": [
        "### **DATA PRE PROCESSING**"
      ],
      "metadata": {
        "id": "YIpXVQIaJzEn"
      }
    },
    {
      "cell_type": "code",
      "execution_count": null,
      "metadata": {
        "colab": {
          "base_uri": "https://localhost:8080/"
        },
        "id": "ZqqINhkddOBw",
        "outputId": "f66a6fa3-2918-4c2e-9d6b-75c1b94304e1",
        "collapsed": true
      },
      "outputs": [
        {
          "output_type": "stream",
          "name": "stdout",
          "text": [
            "Requirement already satisfied: textblob in /usr/local/lib/python3.10/dist-packages (0.17.1)\n",
            "Requirement already satisfied: nltk>=3.1 in /usr/local/lib/python3.10/dist-packages (from textblob) (3.8.1)\n",
            "Requirement already satisfied: click in /usr/local/lib/python3.10/dist-packages (from nltk>=3.1->textblob) (8.1.7)\n",
            "Requirement already satisfied: joblib in /usr/local/lib/python3.10/dist-packages (from nltk>=3.1->textblob) (1.4.2)\n",
            "Requirement already satisfied: regex>=2021.8.3 in /usr/local/lib/python3.10/dist-packages (from nltk>=3.1->textblob) (2024.5.15)\n",
            "Requirement already satisfied: tqdm in /usr/local/lib/python3.10/dist-packages (from nltk>=3.1->textblob) (4.66.5)\n",
            "[nltk_data] Downloading package brown to /root/nltk_data...\n",
            "[nltk_data]   Unzipping corpora/brown.zip.\n",
            "[nltk_data] Downloading package punkt to /root/nltk_data...\n",
            "[nltk_data]   Unzipping tokenizers/punkt.zip.\n",
            "[nltk_data] Downloading package wordnet to /root/nltk_data...\n",
            "[nltk_data] Downloading package averaged_perceptron_tagger to\n",
            "[nltk_data]     /root/nltk_data...\n",
            "[nltk_data]   Unzipping taggers/averaged_perceptron_tagger.zip.\n",
            "[nltk_data] Downloading package conll2000 to /root/nltk_data...\n",
            "[nltk_data]   Unzipping corpora/conll2000.zip.\n",
            "[nltk_data] Downloading package movie_reviews to /root/nltk_data...\n",
            "[nltk_data]   Unzipping corpora/movie_reviews.zip.\n",
            "Finished.\n"
          ]
        }
      ],
      "source": [
        "# Instal TextBlob\n",
        "!pip install textblob\n",
        "\n",
        "# Download resource bahasa untuk TextBlob\n",
        "!python -m textblob.download_corpora"
      ]
    },
    {
      "cell_type": "code",
      "source": [
        "# Import libraries yang dibutuhkan\n",
        "import pandas as pd\n",
        "import numpy as np\n",
        "import re\n",
        "import nltk\n",
        "import matplotlib.pyplot as plt\n",
        "import seaborn as sns\n",
        "from nltk.corpus import stopwords\n",
        "from nltk.sentiment.vader import SentimentIntensityAnalyzer\n",
        "from sklearn.feature_extraction.text import TfidfVectorizer\n",
        "from sklearn.model_selection import train_test_split\n",
        "from sklearn.linear_model import LogisticRegression\n",
        "from sklearn.metrics import classification_report, accuracy_score, confusion_matrix\n",
        "from IPython.display import display, HTML"
      ],
      "metadata": {
        "id": "0UL8cJSej0hI"
      },
      "execution_count": null,
      "outputs": []
    },
    {
      "cell_type": "code",
      "source": [
        "# Unduh Stopwords\n",
        "nltk.download('stopwords')\n",
        "nltk.download('vader_lexicon')"
      ],
      "metadata": {
        "colab": {
          "base_uri": "https://localhost:8080/"
        },
        "id": "rWRDRj_GPPfe",
        "outputId": "39292cff-ae21-4024-9610-cb6dba054e4d"
      },
      "execution_count": null,
      "outputs": [
        {
          "output_type": "stream",
          "name": "stderr",
          "text": [
            "[nltk_data] Downloading package stopwords to /root/nltk_data...\n",
            "[nltk_data]   Unzipping corpora/stopwords.zip.\n",
            "[nltk_data] Downloading package vader_lexicon to /root/nltk_data...\n"
          ]
        },
        {
          "output_type": "execute_result",
          "data": {
            "text/plain": [
              "True"
            ]
          },
          "metadata": {},
          "execution_count": 3
        }
      ]
    },
    {
      "cell_type": "code",
      "source": [
        "# Mengunggah file CSV\n",
        "from google.colab import files\n",
        "uploaded = files.upload()"
      ],
      "metadata": {
        "colab": {
          "base_uri": "https://localhost:8080/",
          "height": 72
        },
        "id": "wijqLShjPiFH",
        "outputId": "537f2fab-a95e-42e9-fcea-cc139d706ecd"
      },
      "execution_count": null,
      "outputs": [
        {
          "output_type": "display_data",
          "data": {
            "text/plain": [
              "<IPython.core.display.HTML object>"
            ],
            "text/html": [
              "\n",
              "     <input type=\"file\" id=\"files-e3da2d0b-b5a2-4e64-8654-26ac79a17d4b\" name=\"files[]\" multiple disabled\n",
              "        style=\"border:none\" />\n",
              "     <output id=\"result-e3da2d0b-b5a2-4e64-8654-26ac79a17d4b\">\n",
              "      Upload widget is only available when the cell has been executed in the\n",
              "      current browser session. Please rerun this cell to enable.\n",
              "      </output>\n",
              "      <script>// Copyright 2017 Google LLC\n",
              "//\n",
              "// Licensed under the Apache License, Version 2.0 (the \"License\");\n",
              "// you may not use this file except in compliance with the License.\n",
              "// You may obtain a copy of the License at\n",
              "//\n",
              "//      http://www.apache.org/licenses/LICENSE-2.0\n",
              "//\n",
              "// Unless required by applicable law or agreed to in writing, software\n",
              "// distributed under the License is distributed on an \"AS IS\" BASIS,\n",
              "// WITHOUT WARRANTIES OR CONDITIONS OF ANY KIND, either express or implied.\n",
              "// See the License for the specific language governing permissions and\n",
              "// limitations under the License.\n",
              "\n",
              "/**\n",
              " * @fileoverview Helpers for google.colab Python module.\n",
              " */\n",
              "(function(scope) {\n",
              "function span(text, styleAttributes = {}) {\n",
              "  const element = document.createElement('span');\n",
              "  element.textContent = text;\n",
              "  for (const key of Object.keys(styleAttributes)) {\n",
              "    element.style[key] = styleAttributes[key];\n",
              "  }\n",
              "  return element;\n",
              "}\n",
              "\n",
              "// Max number of bytes which will be uploaded at a time.\n",
              "const MAX_PAYLOAD_SIZE = 100 * 1024;\n",
              "\n",
              "function _uploadFiles(inputId, outputId) {\n",
              "  const steps = uploadFilesStep(inputId, outputId);\n",
              "  const outputElement = document.getElementById(outputId);\n",
              "  // Cache steps on the outputElement to make it available for the next call\n",
              "  // to uploadFilesContinue from Python.\n",
              "  outputElement.steps = steps;\n",
              "\n",
              "  return _uploadFilesContinue(outputId);\n",
              "}\n",
              "\n",
              "// This is roughly an async generator (not supported in the browser yet),\n",
              "// where there are multiple asynchronous steps and the Python side is going\n",
              "// to poll for completion of each step.\n",
              "// This uses a Promise to block the python side on completion of each step,\n",
              "// then passes the result of the previous step as the input to the next step.\n",
              "function _uploadFilesContinue(outputId) {\n",
              "  const outputElement = document.getElementById(outputId);\n",
              "  const steps = outputElement.steps;\n",
              "\n",
              "  const next = steps.next(outputElement.lastPromiseValue);\n",
              "  return Promise.resolve(next.value.promise).then((value) => {\n",
              "    // Cache the last promise value to make it available to the next\n",
              "    // step of the generator.\n",
              "    outputElement.lastPromiseValue = value;\n",
              "    return next.value.response;\n",
              "  });\n",
              "}\n",
              "\n",
              "/**\n",
              " * Generator function which is called between each async step of the upload\n",
              " * process.\n",
              " * @param {string} inputId Element ID of the input file picker element.\n",
              " * @param {string} outputId Element ID of the output display.\n",
              " * @return {!Iterable<!Object>} Iterable of next steps.\n",
              " */\n",
              "function* uploadFilesStep(inputId, outputId) {\n",
              "  const inputElement = document.getElementById(inputId);\n",
              "  inputElement.disabled = false;\n",
              "\n",
              "  const outputElement = document.getElementById(outputId);\n",
              "  outputElement.innerHTML = '';\n",
              "\n",
              "  const pickedPromise = new Promise((resolve) => {\n",
              "    inputElement.addEventListener('change', (e) => {\n",
              "      resolve(e.target.files);\n",
              "    });\n",
              "  });\n",
              "\n",
              "  const cancel = document.createElement('button');\n",
              "  inputElement.parentElement.appendChild(cancel);\n",
              "  cancel.textContent = 'Cancel upload';\n",
              "  const cancelPromise = new Promise((resolve) => {\n",
              "    cancel.onclick = () => {\n",
              "      resolve(null);\n",
              "    };\n",
              "  });\n",
              "\n",
              "  // Wait for the user to pick the files.\n",
              "  const files = yield {\n",
              "    promise: Promise.race([pickedPromise, cancelPromise]),\n",
              "    response: {\n",
              "      action: 'starting',\n",
              "    }\n",
              "  };\n",
              "\n",
              "  cancel.remove();\n",
              "\n",
              "  // Disable the input element since further picks are not allowed.\n",
              "  inputElement.disabled = true;\n",
              "\n",
              "  if (!files) {\n",
              "    return {\n",
              "      response: {\n",
              "        action: 'complete',\n",
              "      }\n",
              "    };\n",
              "  }\n",
              "\n",
              "  for (const file of files) {\n",
              "    const li = document.createElement('li');\n",
              "    li.append(span(file.name, {fontWeight: 'bold'}));\n",
              "    li.append(span(\n",
              "        `(${file.type || 'n/a'}) - ${file.size} bytes, ` +\n",
              "        `last modified: ${\n",
              "            file.lastModifiedDate ? file.lastModifiedDate.toLocaleDateString() :\n",
              "                                    'n/a'} - `));\n",
              "    const percent = span('0% done');\n",
              "    li.appendChild(percent);\n",
              "\n",
              "    outputElement.appendChild(li);\n",
              "\n",
              "    const fileDataPromise = new Promise((resolve) => {\n",
              "      const reader = new FileReader();\n",
              "      reader.onload = (e) => {\n",
              "        resolve(e.target.result);\n",
              "      };\n",
              "      reader.readAsArrayBuffer(file);\n",
              "    });\n",
              "    // Wait for the data to be ready.\n",
              "    let fileData = yield {\n",
              "      promise: fileDataPromise,\n",
              "      response: {\n",
              "        action: 'continue',\n",
              "      }\n",
              "    };\n",
              "\n",
              "    // Use a chunked sending to avoid message size limits. See b/62115660.\n",
              "    let position = 0;\n",
              "    do {\n",
              "      const length = Math.min(fileData.byteLength - position, MAX_PAYLOAD_SIZE);\n",
              "      const chunk = new Uint8Array(fileData, position, length);\n",
              "      position += length;\n",
              "\n",
              "      const base64 = btoa(String.fromCharCode.apply(null, chunk));\n",
              "      yield {\n",
              "        response: {\n",
              "          action: 'append',\n",
              "          file: file.name,\n",
              "          data: base64,\n",
              "        },\n",
              "      };\n",
              "\n",
              "      let percentDone = fileData.byteLength === 0 ?\n",
              "          100 :\n",
              "          Math.round((position / fileData.byteLength) * 100);\n",
              "      percent.textContent = `${percentDone}% done`;\n",
              "\n",
              "    } while (position < fileData.byteLength);\n",
              "  }\n",
              "\n",
              "  // All done.\n",
              "  yield {\n",
              "    response: {\n",
              "      action: 'complete',\n",
              "    }\n",
              "  };\n",
              "}\n",
              "\n",
              "scope.google = scope.google || {};\n",
              "scope.google.colab = scope.google.colab || {};\n",
              "scope.google.colab._files = {\n",
              "  _uploadFiles,\n",
              "  _uploadFilesContinue,\n",
              "};\n",
              "})(self);\n",
              "</script> "
            ]
          },
          "metadata": {}
        },
        {
          "output_type": "stream",
          "name": "stdout",
          "text": [
            "Saving datasentimen.csv to datasentimen.csv\n"
          ]
        }
      ]
    },
    {
      "cell_type": "code",
      "source": [
        "#Membaca dan Menampilkan 10 baris pertama\n",
        "data = pd.read_csv('datasentimen.csv', delimiter=';')\n",
        "data.head(10).style"
      ],
      "metadata": {
        "id": "ZQKdeKhiiFIr",
        "colab": {
          "base_uri": "https://localhost:8080/",
          "height": 606
        },
        "outputId": "ead56e13-c399-40b1-cca5-46c4c72e7d02"
      },
      "execution_count": null,
      "outputs": [
        {
          "output_type": "execute_result",
          "data": {
            "text/plain": [
              "<pandas.io.formats.style.Styler at 0x786720231900>"
            ],
            "text/html": [
              "<style type=\"text/css\">\n",
              "</style>\n",
              "<table id=\"T_9eb2c\" class=\"dataframe\">\n",
              "  <thead>\n",
              "    <tr>\n",
              "      <th class=\"blank level0\" >&nbsp;</th>\n",
              "      <th id=\"T_9eb2c_level0_col0\" class=\"col_heading level0 col0\" >Name</th>\n",
              "      <th id=\"T_9eb2c_level0_col1\" class=\"col_heading level0 col1\" >Comment</th>\n",
              "      <th id=\"T_9eb2c_level0_col2\" class=\"col_heading level0 col2\" >Time</th>\n",
              "      <th id=\"T_9eb2c_level0_col3\" class=\"col_heading level0 col3\" >Likes</th>\n",
              "      <th id=\"T_9eb2c_level0_col4\" class=\"col_heading level0 col4\" >Reply Count</th>\n",
              "      <th id=\"T_9eb2c_level0_col5\" class=\"col_heading level0 col5\" >(</th>\n",
              "    </tr>\n",
              "  </thead>\n",
              "  <tbody>\n",
              "    <tr>\n",
              "      <th id=\"T_9eb2c_level0_row0\" class=\"row_heading level0 row0\" >0</th>\n",
              "      <td id=\"T_9eb2c_row0_col0\" class=\"data row0 col0\" >@Mutiara413</td>\n",
              "      <td id=\"T_9eb2c_row0_col1\" class=\"data row0 col1\" >POLITIK BAKAS JASA</td>\n",
              "      <td id=\"T_9eb2c_row0_col2\" class=\"data row0 col2\" >2024-09-09T07:52:48Z</td>\n",
              "      <td id=\"T_9eb2c_row0_col3\" class=\"data row0 col3\" >0</td>\n",
              "      <td id=\"T_9eb2c_row0_col4\" class=\"data row0 col4\" >0</td>\n",
              "      <td id=\"T_9eb2c_row0_col5\" class=\"data row0 col5\" >politik bakas jasa</td>\n",
              "    </tr>\n",
              "    <tr>\n",
              "      <th id=\"T_9eb2c_level0_row1\" class=\"row_heading level0 row1\" >1</th>\n",
              "      <td id=\"T_9eb2c_row1_col0\" class=\"data row1 col0\" >@Mutiara413</td>\n",
              "      <td id=\"T_9eb2c_row1_col1\" class=\"data row1 col1\" >DOA A KU UNTUK BU RISMA, MOGA SUKSES ,JADI GUBERNUR</td>\n",
              "      <td id=\"T_9eb2c_row1_col2\" class=\"data row1 col2\" >2024-09-09T07:44:24Z</td>\n",
              "      <td id=\"T_9eb2c_row1_col3\" class=\"data row1 col3\" >0</td>\n",
              "      <td id=\"T_9eb2c_row1_col4\" class=\"data row1 col4\" >0</td>\n",
              "      <td id=\"T_9eb2c_row1_col5\" class=\"data row1 col5\" >doa a ku untuk bu risma, moga sukses ,jadi gubernur</td>\n",
              "    </tr>\n",
              "    <tr>\n",
              "      <th id=\"T_9eb2c_level0_row2\" class=\"row_heading level0 row2\" >2</th>\n",
              "      <td id=\"T_9eb2c_row2_col0\" class=\"data row2 col0\" >@Anonymous_Jibril</td>\n",
              "      <td id=\"T_9eb2c_row2_col1\" class=\"data row2 col1\" >Bu Risma Good, Pekerja keras, Transparansi, Sungguh2, Peka thd Service Masyarakat, Khofifah Ahli Pidato, kinerja landai2 sja, kerja rutinitas spt makan 3x sehari, demi warga Jatim cukup Risma</td>\n",
              "      <td id=\"T_9eb2c_row2_col2\" class=\"data row2 col2\" >2024-09-09T06:16:12Z</td>\n",
              "      <td id=\"T_9eb2c_row2_col3\" class=\"data row2 col3\" >0</td>\n",
              "      <td id=\"T_9eb2c_row2_col4\" class=\"data row2 col4\" >0</td>\n",
              "      <td id=\"T_9eb2c_row2_col5\" class=\"data row2 col5\" >bu risma good, pekerja keras, transparansi, sungguh2, peka thd service masyarakat, khofifah ahli pidato, kinerja landai2 sja, kerja rutinitas spt makan 3x sehari, demi warga jatim cukup risma</td>\n",
              "    </tr>\n",
              "    <tr>\n",
              "      <th id=\"T_9eb2c_level0_row3\" class=\"row_heading level0 row3\" >3</th>\n",
              "      <td id=\"T_9eb2c_row3_col0\" class=\"data row3 col0\" >@user-su6di1iy2v</td>\n",
              "      <td id=\"T_9eb2c_row3_col1\" class=\"data row3 col1\" >Aku blitar..pilih bu Risma</td>\n",
              "      <td id=\"T_9eb2c_row3_col2\" class=\"data row3 col2\" >2024-09-09T03:47:49Z</td>\n",
              "      <td id=\"T_9eb2c_row3_col3\" class=\"data row3 col3\" >0</td>\n",
              "      <td id=\"T_9eb2c_row3_col4\" class=\"data row3 col4\" >0</td>\n",
              "      <td id=\"T_9eb2c_row3_col5\" class=\"data row3 col5\" >aku blitar..pilih bu risma</td>\n",
              "    </tr>\n",
              "    <tr>\n",
              "      <th id=\"T_9eb2c_level0_row4\" class=\"row_heading level0 row4\" >4</th>\n",
              "      <td id=\"T_9eb2c_row4_col0\" class=\"data row4 col0\" >@simonnyetz9493</td>\n",
              "      <td id=\"T_9eb2c_row4_col1\" class=\"data row4 col1\" >ASAL BUKAN ANTEK JOKOWI </td>\n",
              "      <td id=\"T_9eb2c_row4_col2\" class=\"data row4 col2\" >2024-09-09T02:53:03Z</td>\n",
              "      <td id=\"T_9eb2c_row4_col3\" class=\"data row4 col3\" >0</td>\n",
              "      <td id=\"T_9eb2c_row4_col4\" class=\"data row4 col4\" >0</td>\n",
              "      <td id=\"T_9eb2c_row4_col5\" class=\"data row4 col5\" >asal bukan antek jokowi </td>\n",
              "    </tr>\n",
              "    <tr>\n",
              "      <th id=\"T_9eb2c_level0_row5\" class=\"row_heading level0 row5\" >5</th>\n",
              "      <td id=\"T_9eb2c_row5_col0\" class=\"data row5 col0\" >@krisservice</td>\n",
              "      <td id=\"T_9eb2c_row5_col1\" class=\"data row5 col1\" >Preeeeet.....</td>\n",
              "      <td id=\"T_9eb2c_row5_col2\" class=\"data row5 col2\" >2024-09-09T00:33:12Z</td>\n",
              "      <td id=\"T_9eb2c_row5_col3\" class=\"data row5 col3\" >0</td>\n",
              "      <td id=\"T_9eb2c_row5_col4\" class=\"data row5 col4\" >0</td>\n",
              "      <td id=\"T_9eb2c_row5_col5\" class=\"data row5 col5\" >preeeeet.....</td>\n",
              "    </tr>\n",
              "    <tr>\n",
              "      <th id=\"T_9eb2c_level0_row6\" class=\"row_heading level0 row6\" >6</th>\n",
              "      <td id=\"T_9eb2c_row6_col0\" class=\"data row6 col0\" >@alexbocah-z9m</td>\n",
              "      <td id=\"T_9eb2c_row6_col1\" class=\"data row6 col1\" >Saya orang kalimantan dukung emil dan khofifah</td>\n",
              "      <td id=\"T_9eb2c_row6_col2\" class=\"data row6 col2\" >2024-09-08T15:23:29Z</td>\n",
              "      <td id=\"T_9eb2c_row6_col3\" class=\"data row6 col3\" >1</td>\n",
              "      <td id=\"T_9eb2c_row6_col4\" class=\"data row6 col4\" >0</td>\n",
              "      <td id=\"T_9eb2c_row6_col5\" class=\"data row6 col5\" >saya orang kalimantan dukung emil dan khofifah</td>\n",
              "    </tr>\n",
              "    <tr>\n",
              "      <th id=\"T_9eb2c_level0_row7\" class=\"row_heading level0 row7\" >7</th>\n",
              "      <td id=\"T_9eb2c_row7_col0\" class=\"data row7 col0\" >@findanadinesafira9209</td>\n",
              "      <td id=\"T_9eb2c_row7_col1\" class=\"data row7 col1\" >Harusnya pasangan yg cocok memimpin jawa timur itu bu Risma dan pak Emil.. Psti jwa timur maju</td>\n",
              "      <td id=\"T_9eb2c_row7_col2\" class=\"data row7 col2\" >2024-09-08T14:14:36Z</td>\n",
              "      <td id=\"T_9eb2c_row7_col3\" class=\"data row7 col3\" >0</td>\n",
              "      <td id=\"T_9eb2c_row7_col4\" class=\"data row7 col4\" >0</td>\n",
              "      <td id=\"T_9eb2c_row7_col5\" class=\"data row7 col5\" >harusnya pasangan yg cocok memimpin jawa timur itu bu risma dan pak emil.. psti jwa timur maju</td>\n",
              "    </tr>\n",
              "    <tr>\n",
              "      <th id=\"T_9eb2c_level0_row8\" class=\"row_heading level0 row8\" >8</th>\n",
              "      <td id=\"T_9eb2c_row8_col0\" class=\"data row8 col0\" >@user-gf7fk2zz8n</td>\n",
              "      <td id=\"T_9eb2c_row8_col1\" class=\"data row8 col1\" >Asli pendamping gusdur tau sejarah PKB dan ke NU an nya asli banget. Dia di usung karena sosok pribadi tapi yg lain di usung oleh sosok partai.</td>\n",
              "      <td id=\"T_9eb2c_row8_col2\" class=\"data row8 col2\" >2024-09-08T14:05:27Z</td>\n",
              "      <td id=\"T_9eb2c_row8_col3\" class=\"data row8 col3\" >0</td>\n",
              "      <td id=\"T_9eb2c_row8_col4\" class=\"data row8 col4\" >0</td>\n",
              "      <td id=\"T_9eb2c_row8_col5\" class=\"data row8 col5\" >asli pendamping gusdur tau sejarah pkb dan ke nu an nya asli banget. dia di usung karena sosok pribadi tapi yg lain di usung oleh sosok partai.</td>\n",
              "    </tr>\n",
              "    <tr>\n",
              "      <th id=\"T_9eb2c_level0_row9\" class=\"row_heading level0 row9\" >9</th>\n",
              "      <td id=\"T_9eb2c_row9_col0\" class=\"data row9 col0\" >@sitiasiyah1859</td>\n",
              "      <td id=\"T_9eb2c_row9_col1\" class=\"data row9 col1\" >Fix, gk akan saya pilih</td>\n",
              "      <td id=\"T_9eb2c_row9_col2\" class=\"data row9 col2\" >2024-09-08T12:41:45Z</td>\n",
              "      <td id=\"T_9eb2c_row9_col3\" class=\"data row9 col3\" >0</td>\n",
              "      <td id=\"T_9eb2c_row9_col4\" class=\"data row9 col4\" >0</td>\n",
              "      <td id=\"T_9eb2c_row9_col5\" class=\"data row9 col5\" >fix, gk akan saya pilih</td>\n",
              "    </tr>\n",
              "  </tbody>\n",
              "</table>\n"
            ]
          },
          "metadata": {},
          "execution_count": 5
        }
      ]
    },
    {
      "cell_type": "code",
      "source": [
        "# Menampilkan jumlah baris dan kolom Sebelum Hapus Duplikat\n",
        "jumlah_baris, jumlah_kolom = data.shape\n",
        "print(f\"Jumlah Baris: {jumlah_baris}\")\n",
        "print(f\"Jumlah Kolom: {jumlah_kolom}\")"
      ],
      "metadata": {
        "colab": {
          "base_uri": "https://localhost:8080/"
        },
        "id": "TuWQtL7YnogJ",
        "outputId": "93f983b6-8c0c-449f-a1d7-1a7753c478f9"
      },
      "execution_count": null,
      "outputs": [
        {
          "output_type": "stream",
          "name": "stdout",
          "text": [
            "Jumlah Baris: 1748\n",
            "Jumlah Kolom: 6\n"
          ]
        }
      ]
    },
    {
      "cell_type": "code",
      "source": [
        "print(data.info())"
      ],
      "metadata": {
        "id": "_tgsonEmgoEe",
        "colab": {
          "base_uri": "https://localhost:8080/"
        },
        "outputId": "9202c203-5a36-4ecd-8a93-6b8f44d20899"
      },
      "execution_count": null,
      "outputs": [
        {
          "output_type": "stream",
          "name": "stdout",
          "text": [
            "<class 'pandas.core.frame.DataFrame'>\n",
            "RangeIndex: 1748 entries, 0 to 1747\n",
            "Data columns (total 6 columns):\n",
            " #   Column       Non-Null Count  Dtype \n",
            "---  ------       --------------  ----- \n",
            " 0   Name         1748 non-null   object\n",
            " 1   Comment      1743 non-null   object\n",
            " 2   Time         1748 non-null   object\n",
            " 3   Likes        1748 non-null   int64 \n",
            " 4   Reply Count  1748 non-null   int64 \n",
            " 5   (            1743 non-null   object\n",
            "dtypes: int64(2), object(4)\n",
            "memory usage: 82.1+ KB\n",
            "None\n"
          ]
        }
      ]
    },
    {
      "cell_type": "code",
      "source": [
        "# Melihat Missing Values dari Kolom yang ada\n",
        "print(data.isnull().sum())"
      ],
      "metadata": {
        "colab": {
          "base_uri": "https://localhost:8080/"
        },
        "id": "aEc5rjfmlKT2",
        "outputId": "d1567aea-f192-4f6d-ccfa-4b7836284dd4"
      },
      "execution_count": null,
      "outputs": [
        {
          "output_type": "stream",
          "name": "stdout",
          "text": [
            "Name           0\n",
            "Comment        5\n",
            "Time           0\n",
            "Likes          0\n",
            "Reply Count    0\n",
            "(              5\n",
            "dtype: int64\n"
          ]
        }
      ]
    },
    {
      "cell_type": "code",
      "source": [
        "# Menampilkan jumlah duplikat\n",
        "duplicates = data.duplicated()\n",
        "print(duplicates.sum())"
      ],
      "metadata": {
        "colab": {
          "base_uri": "https://localhost:8080/"
        },
        "id": "OctqJe1nl1dT",
        "outputId": "ece38a22-0113-497c-d532-a5349ffe0b61"
      },
      "execution_count": null,
      "outputs": [
        {
          "output_type": "stream",
          "name": "stdout",
          "text": [
            "2\n"
          ]
        }
      ]
    },
    {
      "cell_type": "markdown",
      "source": [
        "**Menghapus Data Duplikat**"
      ],
      "metadata": {
        "id": "EdbGQdpL9dr6"
      }
    },
    {
      "cell_type": "code",
      "source": [
        "# Menghapus duplikat dari DataFrame\n",
        "data_deduped = data.drop_duplicates()\n",
        "\n",
        "# Menampilkan data setelah penghapusan duplikat dalam bentuk tabel\n",
        "print(\"Data setelah penghapusan duplikat:\")\n",
        "display(HTML(data_deduped.head(10).to_html()))"
      ],
      "metadata": {
        "colab": {
          "base_uri": "https://localhost:8080/",
          "height": 606
        },
        "id": "-CrWHXQf_n3E",
        "outputId": "a9accfe2-294f-41ca-936d-b8e325667ebe"
      },
      "execution_count": null,
      "outputs": [
        {
          "output_type": "stream",
          "name": "stdout",
          "text": [
            "Data setelah penghapusan duplikat:\n"
          ]
        },
        {
          "output_type": "display_data",
          "data": {
            "text/plain": [
              "<IPython.core.display.HTML object>"
            ],
            "text/html": [
              "<table border=\"1\" class=\"dataframe\">\n",
              "  <thead>\n",
              "    <tr style=\"text-align: right;\">\n",
              "      <th></th>\n",
              "      <th>Name</th>\n",
              "      <th>Comment</th>\n",
              "      <th>Time</th>\n",
              "      <th>Likes</th>\n",
              "      <th>Reply Count</th>\n",
              "      <th>(</th>\n",
              "    </tr>\n",
              "  </thead>\n",
              "  <tbody>\n",
              "    <tr>\n",
              "      <th>0</th>\n",
              "      <td>@Mutiara413</td>\n",
              "      <td>POLITIK BAKAS JASA</td>\n",
              "      <td>2024-09-09T07:52:48Z</td>\n",
              "      <td>0</td>\n",
              "      <td>0</td>\n",
              "      <td>politik bakas jasa</td>\n",
              "    </tr>\n",
              "    <tr>\n",
              "      <th>1</th>\n",
              "      <td>@Mutiara413</td>\n",
              "      <td>DOA A KU UNTUK BU RISMA, MOGA SUKSES ,JADI GUBERNUR</td>\n",
              "      <td>2024-09-09T07:44:24Z</td>\n",
              "      <td>0</td>\n",
              "      <td>0</td>\n",
              "      <td>doa a ku untuk bu risma, moga sukses ,jadi gubernur</td>\n",
              "    </tr>\n",
              "    <tr>\n",
              "      <th>2</th>\n",
              "      <td>@Anonymous_Jibril</td>\n",
              "      <td>Bu Risma Good, Pekerja keras, Transparansi, Sungguh2, Peka thd Service Masyarakat, Khofifah Ahli Pidato, kinerja landai2 sja, kerja rutinitas spt makan 3x sehari, demi warga Jatim cukup Risma</td>\n",
              "      <td>2024-09-09T06:16:12Z</td>\n",
              "      <td>0</td>\n",
              "      <td>0</td>\n",
              "      <td>bu risma good, pekerja keras, transparansi, sungguh2, peka thd service masyarakat, khofifah ahli pidato, kinerja landai2 sja, kerja rutinitas spt makan 3x sehari, demi warga jatim cukup risma</td>\n",
              "    </tr>\n",
              "    <tr>\n",
              "      <th>3</th>\n",
              "      <td>@user-su6di1iy2v</td>\n",
              "      <td>Aku blitar..pilih bu Risma</td>\n",
              "      <td>2024-09-09T03:47:49Z</td>\n",
              "      <td>0</td>\n",
              "      <td>0</td>\n",
              "      <td>aku blitar..pilih bu risma</td>\n",
              "    </tr>\n",
              "    <tr>\n",
              "      <th>4</th>\n",
              "      <td>@simonnyetz9493</td>\n",
              "      <td>ASAL BUKAN ANTEK JOKOWI</td>\n",
              "      <td>2024-09-09T02:53:03Z</td>\n",
              "      <td>0</td>\n",
              "      <td>0</td>\n",
              "      <td>asal bukan antek jokowi</td>\n",
              "    </tr>\n",
              "    <tr>\n",
              "      <th>5</th>\n",
              "      <td>@krisservice</td>\n",
              "      <td>Preeeeet.....</td>\n",
              "      <td>2024-09-09T00:33:12Z</td>\n",
              "      <td>0</td>\n",
              "      <td>0</td>\n",
              "      <td>preeeeet.....</td>\n",
              "    </tr>\n",
              "    <tr>\n",
              "      <th>6</th>\n",
              "      <td>@alexbocah-z9m</td>\n",
              "      <td>Saya orang kalimantan dukung emil dan khofifah</td>\n",
              "      <td>2024-09-08T15:23:29Z</td>\n",
              "      <td>1</td>\n",
              "      <td>0</td>\n",
              "      <td>saya orang kalimantan dukung emil dan khofifah</td>\n",
              "    </tr>\n",
              "    <tr>\n",
              "      <th>7</th>\n",
              "      <td>@findanadinesafira9209</td>\n",
              "      <td>Harusnya pasangan yg cocok memimpin jawa timur itu bu Risma dan pak Emil.. Psti jwa timur maju</td>\n",
              "      <td>2024-09-08T14:14:36Z</td>\n",
              "      <td>0</td>\n",
              "      <td>0</td>\n",
              "      <td>harusnya pasangan yg cocok memimpin jawa timur itu bu risma dan pak emil.. psti jwa timur maju</td>\n",
              "    </tr>\n",
              "    <tr>\n",
              "      <th>8</th>\n",
              "      <td>@user-gf7fk2zz8n</td>\n",
              "      <td>Asli pendamping gusdur tau sejarah PKB dan ke NU an nya asli banget. Dia di usung karena sosok pribadi tapi yg lain di usung oleh sosok partai.</td>\n",
              "      <td>2024-09-08T14:05:27Z</td>\n",
              "      <td>0</td>\n",
              "      <td>0</td>\n",
              "      <td>asli pendamping gusdur tau sejarah pkb dan ke nu an nya asli banget. dia di usung karena sosok pribadi tapi yg lain di usung oleh sosok partai.</td>\n",
              "    </tr>\n",
              "    <tr>\n",
              "      <th>9</th>\n",
              "      <td>@sitiasiyah1859</td>\n",
              "      <td>Fix, gk akan saya pilih</td>\n",
              "      <td>2024-09-08T12:41:45Z</td>\n",
              "      <td>0</td>\n",
              "      <td>0</td>\n",
              "      <td>fix, gk akan saya pilih</td>\n",
              "    </tr>\n",
              "  </tbody>\n",
              "</table>"
            ]
          },
          "metadata": {}
        }
      ]
    },
    {
      "cell_type": "code",
      "source": [
        "# Menampilkan jumlah baris sebelum dan sesudah penghapusan duplikat\n",
        "num_rows_before = len(data)\n",
        "num_rows_after = len(data_deduped)\n",
        "\n",
        "print(f\"Jumlah baris sebelum penghapusan duplikat: {num_rows_before}\")\n",
        "print(f\"Jumlah baris setelah penghapusan duplikat: {num_rows_after}\")\n",
        "print(f\"Jumlah duplikat yang dihapus: {num_rows_before - num_rows_after}\")"
      ],
      "metadata": {
        "colab": {
          "base_uri": "https://localhost:8080/"
        },
        "id": "5KoUmnt--Mxo",
        "outputId": "13850b3c-f9ff-4675-8bbf-5cf9841465ef"
      },
      "execution_count": null,
      "outputs": [
        {
          "output_type": "stream",
          "name": "stdout",
          "text": [
            "Jumlah baris sebelum penghapusan duplikat: 1748\n",
            "Jumlah baris setelah penghapusan duplikat: 1746\n",
            "Jumlah duplikat yang dihapus: 2\n"
          ]
        }
      ]
    },
    {
      "cell_type": "code",
      "source": [
        "print(data.columns)  # Menampilkan semua nama kolom\n",
        "def clean_text(text):\n",
        "    text = text.lower()\n",
        "    text = re.sub(r'http\\S+|www\\S+|https\\S+', '', text, flags=re.MULTILINE)\n",
        "    text = re.sub(r'\\@\\w+|\\#', '', text)  # Menghapus mention dan hashtag\n",
        "    text = re.sub(r'[^\\w\\s]', '', text)  # Menghapus tanda baca\n",
        "    return text"
      ],
      "metadata": {
        "colab": {
          "base_uri": "https://localhost:8080/"
        },
        "id": "KFIMDhXjpy5u",
        "outputId": "a14d30d0-0d37-46dc-ffc4-175b71fa99c6"
      },
      "execution_count": null,
      "outputs": [
        {
          "output_type": "stream",
          "name": "stdout",
          "text": [
            "Index(['Name', 'Comment', 'Time', 'Likes', 'Reply Count', '('], dtype='object')\n"
          ]
        }
      ]
    },
    {
      "cell_type": "markdown",
      "source": [
        "**Membersihkan Komentar**"
      ],
      "metadata": {
        "id": "ujBafwEcGx1M"
      }
    },
    {
      "cell_type": "code",
      "source": [
        "# Membaca file CSV yang diunggah\n",
        "# Specify the delimiter and error handling\n",
        "data = pd.read_csv('datasentimen.csv', delimiter=';', on_bad_lines='skip')\n",
        "\n",
        "# Definisikan fungsi untuk membersihkan komentar\n",
        "def clean_comment(comment):\n",
        "    # Handle None values\n",
        "    if comment is None:\n",
        "        return ''\n",
        "    # Convert to string\n",
        "    comment = str(comment)\n",
        "    # Menghapus hashtag\n",
        "    comment = re.sub(r'#\\w+', '', comment)\n",
        "    # Mengubah menjadi huruf kecil\n",
        "    comment = comment.lower()\n",
        "    # Menghapus URL\n",
        "    comment = re.sub(r'http\\S+|www\\S+|https\\S+', '', comment, flags=re.MULTILINE)\n",
        "    # Menghapus karakter non-alfabet (kecuali spasi)\n",
        "    comment = re.sub(r'[^a-zA-Z\\s]', '', comment)\n",
        "    # Menghapus kata yang sangat pendek (misalnya, kata dengan panjang kurang dari 3)\n",
        "    comment = ' '.join(word for word in comment.split() if len(word) > 2)\n",
        "    return comment\n",
        "\n",
        "# Check the column names of the DataFrame\n",
        "print(data.columns)\n",
        "\n",
        "# Assuming the column with comments is named 'Comment'\n",
        "if 'Comment' in data.columns:  # Changed 'comment' to 'Comment'\n",
        "    data['cleaned_comment'] = data['Comment'].apply(clean_comment)  # Changed 'comment' to 'Comment'\n",
        "else:\n",
        "    raise ValueError(\"Kolom 'Comment' tidak ditemukan dalam DataFrame.\")  # Changed 'comment' to 'Comment'\n",
        "\n",
        "# Menampilkan hasil dalam bentuk tabel\n",
        "print(\"Data setelah pembersihan komentar:\")\n",
        "display(HTML(data[['Comment', 'cleaned_comment']].head(10).to_html()))  # Changed 'comment' to 'Comment'"
      ],
      "metadata": {
        "colab": {
          "base_uri": "https://localhost:8080/",
          "height": 467
        },
        "id": "Mwp2HEggG3E0",
        "outputId": "7e29f067-5217-47f5-f746-4a5793b51f1c"
      },
      "execution_count": null,
      "outputs": [
        {
          "output_type": "stream",
          "name": "stdout",
          "text": [
            "Index(['Name', 'Comment', 'Time', 'Likes', 'Reply Count', '('], dtype='object')\n",
            "Data setelah pembersihan komentar:\n"
          ]
        },
        {
          "output_type": "display_data",
          "data": {
            "text/plain": [
              "<IPython.core.display.HTML object>"
            ],
            "text/html": [
              "<table border=\"1\" class=\"dataframe\">\n",
              "  <thead>\n",
              "    <tr style=\"text-align: right;\">\n",
              "      <th></th>\n",
              "      <th>Comment</th>\n",
              "      <th>cleaned_comment</th>\n",
              "    </tr>\n",
              "  </thead>\n",
              "  <tbody>\n",
              "    <tr>\n",
              "      <th>0</th>\n",
              "      <td>POLITIK BAKAS JASA</td>\n",
              "      <td>politik bakas jasa</td>\n",
              "    </tr>\n",
              "    <tr>\n",
              "      <th>1</th>\n",
              "      <td>DOA A KU UNTUK BU RISMA, MOGA SUKSES ,JADI GUBERNUR</td>\n",
              "      <td>doa untuk risma moga sukses jadi gubernur</td>\n",
              "    </tr>\n",
              "    <tr>\n",
              "      <th>2</th>\n",
              "      <td>Bu Risma Good, Pekerja keras, Transparansi, Sungguh2, Peka thd Service Masyarakat, Khofifah Ahli Pidato, kinerja landai2 sja, kerja rutinitas spt makan 3x sehari, demi warga Jatim cukup Risma</td>\n",
              "      <td>risma good pekerja keras transparansi sungguh peka thd service masyarakat khofifah ahli pidato kinerja landai sja kerja rutinitas spt makan sehari demi warga jatim cukup risma</td>\n",
              "    </tr>\n",
              "    <tr>\n",
              "      <th>3</th>\n",
              "      <td>Aku blitar..pilih bu Risma</td>\n",
              "      <td>aku blitarpilih risma</td>\n",
              "    </tr>\n",
              "    <tr>\n",
              "      <th>4</th>\n",
              "      <td>ASAL BUKAN ANTEK JOKOWI</td>\n",
              "      <td>asal bukan antek jokowi</td>\n",
              "    </tr>\n",
              "    <tr>\n",
              "      <th>5</th>\n",
              "      <td>Preeeeet.....</td>\n",
              "      <td>preeeeet</td>\n",
              "    </tr>\n",
              "    <tr>\n",
              "      <th>6</th>\n",
              "      <td>Saya orang kalimantan dukung emil dan khofifah</td>\n",
              "      <td>saya orang kalimantan dukung emil dan khofifah</td>\n",
              "    </tr>\n",
              "    <tr>\n",
              "      <th>7</th>\n",
              "      <td>Harusnya pasangan yg cocok memimpin jawa timur itu bu Risma dan pak Emil.. Psti jwa timur maju</td>\n",
              "      <td>harusnya pasangan cocok memimpin jawa timur itu risma dan pak emil psti jwa timur maju</td>\n",
              "    </tr>\n",
              "    <tr>\n",
              "      <th>8</th>\n",
              "      <td>Asli pendamping gusdur tau sejarah PKB dan ke NU an nya asli banget. Dia di usung karena sosok pribadi tapi yg lain di usung oleh sosok partai.</td>\n",
              "      <td>asli pendamping gusdur tau sejarah pkb dan nya asli banget dia usung karena sosok pribadi tapi lain usung oleh sosok partai</td>\n",
              "    </tr>\n",
              "    <tr>\n",
              "      <th>9</th>\n",
              "      <td>Fix, gk akan saya pilih</td>\n",
              "      <td>fix akan saya pilih</td>\n",
              "    </tr>\n",
              "  </tbody>\n",
              "</table>"
            ]
          },
          "metadata": {}
        }
      ]
    },
    {
      "cell_type": "code",
      "source": [
        "# Menampilkan hasil dalam bentuk tabel\n",
        "print(\"Data setelah pembersihan komentar:\")\n",
        "display(HTML(data[['Comment', 'cleaned_comment']].head(10).to_html()))  # Changed 'comment' to 'Comment'"
      ],
      "metadata": {
        "colab": {
          "base_uri": "https://localhost:8080/",
          "height": 449
        },
        "id": "8wryKd-cT1NE",
        "outputId": "fe48da9e-c545-48a2-df00-4795f533efbb"
      },
      "execution_count": null,
      "outputs": [
        {
          "output_type": "stream",
          "name": "stdout",
          "text": [
            "Data setelah pembersihan komentar:\n"
          ]
        },
        {
          "output_type": "display_data",
          "data": {
            "text/plain": [
              "<IPython.core.display.HTML object>"
            ],
            "text/html": [
              "<table border=\"1\" class=\"dataframe\">\n",
              "  <thead>\n",
              "    <tr style=\"text-align: right;\">\n",
              "      <th></th>\n",
              "      <th>Comment</th>\n",
              "      <th>cleaned_comment</th>\n",
              "    </tr>\n",
              "  </thead>\n",
              "  <tbody>\n",
              "    <tr>\n",
              "      <th>0</th>\n",
              "      <td>POLITIK BAKAS JASA</td>\n",
              "      <td>politik bakas jasa</td>\n",
              "    </tr>\n",
              "    <tr>\n",
              "      <th>1</th>\n",
              "      <td>DOA A KU UNTUK BU RISMA, MOGA SUKSES ,JADI GUBERNUR</td>\n",
              "      <td>doa untuk risma moga sukses jadi gubernur</td>\n",
              "    </tr>\n",
              "    <tr>\n",
              "      <th>2</th>\n",
              "      <td>Bu Risma Good, Pekerja keras, Transparansi, Sungguh2, Peka thd Service Masyarakat, Khofifah Ahli Pidato, kinerja landai2 sja, kerja rutinitas spt makan 3x sehari, demi warga Jatim cukup Risma</td>\n",
              "      <td>risma good pekerja keras transparansi sungguh peka thd service masyarakat khofifah ahli pidato kinerja landai sja kerja rutinitas spt makan sehari demi warga jatim cukup risma</td>\n",
              "    </tr>\n",
              "    <tr>\n",
              "      <th>3</th>\n",
              "      <td>Aku blitar..pilih bu Risma</td>\n",
              "      <td>aku blitarpilih risma</td>\n",
              "    </tr>\n",
              "    <tr>\n",
              "      <th>4</th>\n",
              "      <td>ASAL BUKAN ANTEK JOKOWI</td>\n",
              "      <td>asal bukan antek jokowi</td>\n",
              "    </tr>\n",
              "    <tr>\n",
              "      <th>5</th>\n",
              "      <td>Preeeeet.....</td>\n",
              "      <td>preeeeet</td>\n",
              "    </tr>\n",
              "    <tr>\n",
              "      <th>6</th>\n",
              "      <td>Saya orang kalimantan dukung emil dan khofifah</td>\n",
              "      <td>saya orang kalimantan dukung emil dan khofifah</td>\n",
              "    </tr>\n",
              "    <tr>\n",
              "      <th>7</th>\n",
              "      <td>Harusnya pasangan yg cocok memimpin jawa timur itu bu Risma dan pak Emil.. Psti jwa timur maju</td>\n",
              "      <td>harusnya pasangan cocok memimpin jawa timur itu risma dan pak emil psti jwa timur maju</td>\n",
              "    </tr>\n",
              "    <tr>\n",
              "      <th>8</th>\n",
              "      <td>Asli pendamping gusdur tau sejarah PKB dan ke NU an nya asli banget. Dia di usung karena sosok pribadi tapi yg lain di usung oleh sosok partai.</td>\n",
              "      <td>asli pendamping gusdur tau sejarah pkb dan nya asli banget dia usung karena sosok pribadi tapi lain usung oleh sosok partai</td>\n",
              "    </tr>\n",
              "    <tr>\n",
              "      <th>9</th>\n",
              "      <td>Fix, gk akan saya pilih</td>\n",
              "      <td>fix akan saya pilih</td>\n",
              "    </tr>\n",
              "  </tbody>\n",
              "</table>"
            ]
          },
          "metadata": {}
        }
      ]
    },
    {
      "cell_type": "markdown",
      "source": [
        "### **ANALISIS SENTIMEN**"
      ],
      "metadata": {
        "id": "yRQkBC0mrJU6"
      }
    },
    {
      "cell_type": "markdown",
      "source": [
        "Analisis Sentimen dengan Model Sederhana"
      ],
      "metadata": {
        "id": "YO1NDUG9Thh2"
      }
    },
    {
      "cell_type": "code",
      "source": [
        "# Langkah 1: Menambahkan Kolom Sentiment\n",
        "def classify_sentiment(comment):\n",
        "    # Aturan sederhana untuk klasifikasi sentimen\n",
        "    positive_keywords = ['bagus', 'dukung', 'menang', 'maju', 'sukses','pilih']\n",
        "    negative_keywords = ['tidak', 'kalah', 'ora', 'benci', 'bosan','anti']\n",
        "\n",
        "    # Konversi komentar ke huruf kecil\n",
        "    comment = comment.lower()\n",
        "\n",
        "    # Periksa adanya kata kunci\n",
        "    if any(keyword in comment for keyword in positive_keywords):\n",
        "        return 'Positive' # Added indentation\n",
        "    elif any(keyword in comment for keyword in negative_keywords):\n",
        "        return 'Negative' # Added indentation\n",
        "\n",
        "# Terapkan fungsi klasifikasi ke kolom 'cleaned_comment'\n",
        "data['Sentiment'] = data['cleaned_comment'].apply(classify_sentiment)"
      ],
      "metadata": {
        "id": "0xdQRZAyfji6"
      },
      "execution_count": null,
      "outputs": []
    },
    {
      "cell_type": "code",
      "source": [
        "# Langkah 2: Visualisasi Distribusi Sentimen\n",
        "plt.figure(figsize=(10, 6))\n",
        "sns.countplot(data=data, x='Sentiment')\n",
        "plt.title('Distribusi Sentimen')\n",
        "plt.xlabel('Sentiment')\n",
        "plt.ylabel('Jumlah Komentar')\n",
        "plt.show()"
      ],
      "metadata": {
        "colab": {
          "base_uri": "https://localhost:8080/",
          "height": 564
        },
        "id": "dAHyxiuDT9DZ",
        "outputId": "af350b1e-30ee-4819-9be2-650f9739def5"
      },
      "execution_count": null,
      "outputs": [
        {
          "output_type": "display_data",
          "data": {
            "text/plain": [
              "<Figure size 1000x600 with 1 Axes>"
            ],
            "image/png": "[encoded data removed]"
          },
          "metadata": {}
        }
      ]
    },
    {
      "cell_type": "markdown",
      "source": [
        "Analisis Sentimen dengan Model Vader"
      ],
      "metadata": {
        "id": "tzRZK9USUGdB"
      }
    },
    {
      "cell_type": "code",
      "source": [
        "# Sentiment Analysis dengan VADER\n",
        "sia = SentimentIntensityAnalyzer()\n",
        "\n",
        "def get_sentiment(text):\n",
        "    score = sia.polarity_scores(text)['compound']\n",
        "    return 'positive' if score >= 0 else 'negative'\n",
        "\n",
        "data['sentiment'] = data['cleaned_comment'].apply(get_sentiment)\n",
        "data_filtered = data[data['sentiment'].isin(['positive', 'negative'])]"
      ],
      "metadata": {
        "id": "TSKH9jYpUPwp"
      },
      "execution_count": null,
      "outputs": []
    },
    {
      "cell_type": "code",
      "source": [
        "# Menampilkan hasil analisis sentimen\n",
        "display(data_filtered[['Comment', 'cleaned_comment', 'sentiment']].head(10))"
      ],
      "metadata": {
        "colab": {
          "base_uri": "https://localhost:8080/",
          "height": 363
        },
        "id": "llgBzsqwUT65",
        "outputId": "1ef5f28e-2fef-4139-e3b0-12f83016e1b1"
      },
      "execution_count": null,
      "outputs": [
        {
          "output_type": "display_data",
          "data": {
            "text/plain": [
              "                                             Comment  \\\n",
              "0                                 POLITIK BAKAS JASA   \n",
              "1  DOA A KU UNTUK BU RISMA, MOGA SUKSES ,JADI GUB...   \n",
              "2  Bu Risma Good, Pekerja keras, Transparansi, Su...   \n",
              "3                         Aku blitar..pilih bu Risma   \n",
              "4                           ASAL BUKAN ANTEK JOKOWI    \n",
              "5                                      Preeeeet.....   \n",
              "6     Saya orang kalimantan dukung emil dan khofifah   \n",
              "7  Harusnya pasangan yg cocok memimpin jawa timur...   \n",
              "8  Asli pendamping gusdur tau sejarah PKB dan ke ...   \n",
              "9                            Fix, gk akan saya pilih   \n",
              "\n",
              "                                     cleaned_comment sentiment  \n",
              "0                                 politik bakas jasa  positive  \n",
              "1          doa untuk risma moga sukses jadi gubernur  negative  \n",
              "2  risma good pekerja keras transparansi sungguh ...  positive  \n",
              "3                              aku blitarpilih risma  positive  \n",
              "4                            asal bukan antek jokowi  positive  \n",
              "5                                           preeeeet  positive  \n",
              "6     saya orang kalimantan dukung emil dan khofifah  positive  \n",
              "7  harusnya pasangan cocok memimpin jawa timur it...  positive  \n",
              "8  asli pendamping gusdur tau sejarah pkb dan nya...  positive  \n",
              "9                                fix akan saya pilih  positive  "
            ],
            "text/html": [
              "\n",
              "  <div id=\"df-0507c5f7-df39-41db-a180-69bc2fb16445\" class=\"colab-df-container\">\n",
              "    <div>\n",
              "<style scoped>\n",
              "    .dataframe tbody tr th:only-of-type {\n",
              "        vertical-align: middle;\n",
              "    }\n",
              "\n",
              "    .dataframe tbody tr th {\n",
              "        vertical-align: top;\n",
              "    }\n",
              "\n",
              "    .dataframe thead th {\n",
              "        text-align: right;\n",
              "    }\n",
              "</style>\n",
              "<table border=\"1\" class=\"dataframe\">\n",
              "  <thead>\n",
              "    <tr style=\"text-align: right;\">\n",
              "      <th></th>\n",
              "      <th>Comment</th>\n",
              "      <th>cleaned_comment</th>\n",
              "      <th>sentiment</th>\n",
              "    </tr>\n",
              "  </thead>\n",
              "  <tbody>\n",
              "    <tr>\n",
              "      <th>0</th>\n",
              "      <td>POLITIK BAKAS JASA</td>\n",
              "      <td>politik bakas jasa</td>\n",
              "      <td>positive</td>\n",
              "    </tr>\n",
              "    <tr>\n",
              "      <th>1</th>\n",
              "      <td>DOA A KU UNTUK BU RISMA, MOGA SUKSES ,JADI GUB...</td>\n",
              "      <td>doa untuk risma moga sukses jadi gubernur</td>\n",
              "      <td>negative</td>\n",
              "    </tr>\n",
              "    <tr>\n",
              "      <th>2</th>\n",
              "      <td>Bu Risma Good, Pekerja keras, Transparansi, Su...</td>\n",
              "      <td>risma good pekerja keras transparansi sungguh ...</td>\n",
              "      <td>positive</td>\n",
              "    </tr>\n",
              "    <tr>\n",
              "      <th>3</th>\n",
              "      <td>Aku blitar..pilih bu Risma</td>\n",
              "      <td>aku blitarpilih risma</td>\n",
              "      <td>positive</td>\n",
              "    </tr>\n",
              "    <tr>\n",
              "      <th>4</th>\n",
              "      <td>ASAL BUKAN ANTEK JOKOWI</td>\n",
              "      <td>asal bukan antek jokowi</td>\n",
              "      <td>positive</td>\n",
              "    </tr>\n",
              "    <tr>\n",
              "      <th>5</th>\n",
              "      <td>Preeeeet.....</td>\n",
              "      <td>preeeeet</td>\n",
              "      <td>positive</td>\n",
              "    </tr>\n",
              "    <tr>\n",
              "      <th>6</th>\n",
              "      <td>Saya orang kalimantan dukung emil dan khofifah</td>\n",
              "      <td>saya orang kalimantan dukung emil dan khofifah</td>\n",
              "      <td>positive</td>\n",
              "    </tr>\n",
              "    <tr>\n",
              "      <th>7</th>\n",
              "      <td>Harusnya pasangan yg cocok memimpin jawa timur...</td>\n",
              "      <td>harusnya pasangan cocok memimpin jawa timur it...</td>\n",
              "      <td>positive</td>\n",
              "    </tr>\n",
              "    <tr>\n",
              "      <th>8</th>\n",
              "      <td>Asli pendamping gusdur tau sejarah PKB dan ke ...</td>\n",
              "      <td>asli pendamping gusdur tau sejarah pkb dan nya...</td>\n",
              "      <td>positive</td>\n",
              "    </tr>\n",
              "    <tr>\n",
              "      <th>9</th>\n",
              "      <td>Fix, gk akan saya pilih</td>\n",
              "      <td>fix akan saya pilih</td>\n",
              "      <td>positive</td>\n",
              "    </tr>\n",
              "  </tbody>\n",
              "</table>\n",
              "</div>\n",
              "    <div class=\"colab-df-buttons\">\n",
              "\n",
              "  <div class=\"colab-df-container\">\n",
              "    <button class=\"colab-df-convert\" onclick=\"convertToInteractive('df-0507c5f7-df39-41db-a180-69bc2fb16445')\"\n",
              "            title=\"Convert this dataframe to an interactive table.\"\n",
              "            style=\"display:none;\">\n",
              "\n",
              "  <svg xmlns=\"http://www.w3.org/2000/svg\" height=\"24px\" viewBox=\"0 -960 960 960\">\n",
              "    <path d=\"M120-120v-720h720v720H120Zm60-500h600v-160H180v160Zm220 220h160v-160H400v160Zm0 220h160v-160H400v160ZM180-400h160v-160H180v160Zm440 0h160v-160H620v160ZM180-180h160v-160H180v160Zm440 0h160v-160H620v160Z\"/>\n",
              "  </svg>\n",
              "    </button>\n",
              "\n",
              "  <style>\n",
              "    .colab-df-container {\n",
              "      display:flex;\n",
              "      gap: 12px;\n",
              "    }\n",
              "\n",
              "    .colab-df-convert {\n",
              "      background-color: #E8F0FE;\n",
              "      border: none;\n",
              "      border-radius: 50%;\n",
              "      cursor: pointer;\n",
              "      display: none;\n",
              "      fill: #1967D2;\n",
              "      height: 32px;\n",
              "      padding: 0 0 0 0;\n",
              "      width: 32px;\n",
              "    }\n",
              "\n",
              "    .colab-df-convert:hover {\n",
              "      background-color: #E2EBFA;\n",
              "      box-shadow: 0px 1px 2px rgba(60, 64, 67, 0.3), 0px 1px 3px 1px rgba(60, 64, 67, 0.15);\n",
              "      fill: #174EA6;\n",
              "    }\n",
              "\n",
              "    .colab-df-buttons div {\n",
              "      margin-bottom: 4px;\n",
              "    }\n",
              "\n",
              "    [theme=dark] .colab-df-convert {\n",
              "      background-color: #3B4455;\n",
              "      fill: #D2E3FC;\n",
              "    }\n",
              "\n",
              "    [theme=dark] .colab-df-convert:hover {\n",
              "      background-color: #434B5C;\n",
              "      box-shadow: 0px 1px 3px 1px rgba(0, 0, 0, 0.15);\n",
              "      filter: drop-shadow(0px 1px 2px rgba(0, 0, 0, 0.3));\n",
              "      fill: #FFFFFF;\n",
              "    }\n",
              "  </style>\n",
              "\n",
              "    <script>\n",
              "      const buttonEl =\n",
              "        document.querySelector('#df-0507c5f7-df39-41db-a180-69bc2fb16445 button.colab-df-convert');\n",
              "      buttonEl.style.display =\n",
              "        google.colab.kernel.accessAllowed ? 'block' : 'none';\n",
              "\n",
              "      async function convertToInteractive(key) {\n",
              "        const element = document.querySelector('#df-0507c5f7-df39-41db-a180-69bc2fb16445');\n",
              "        const dataTable =\n",
              "          await google.colab.kernel.invokeFunction('convertToInteractive',\n",
              "                                                    [key], {});\n",
              "        if (!dataTable) return;\n",
              "\n",
              "        const docLinkHtml = 'Like what you see? Visit the ' +\n",
              "          '<a target=\"_blank\" href=https://colab.research.google.com/notebooks/data_table.ipynb>data table notebook</a>'\n",
              "          + ' to learn more about interactive tables.';\n",
              "        element.innerHTML = '';\n",
              "        dataTable['output_type'] = 'display_data';\n",
              "        await google.colab.output.renderOutput(dataTable, element);\n",
              "        const docLink = document.createElement('div');\n",
              "        docLink.innerHTML = docLinkHtml;\n",
              "        element.appendChild(docLink);\n",
              "      }\n",
              "    </script>\n",
              "  </div>\n",
              "\n",
              "\n",
              "<div id=\"df-f7ef5cd1-2867-4889-b601-f1e6d27a6a9a\">\n",
              "  <button class=\"colab-df-quickchart\" onclick=\"quickchart('df-f7ef5cd1-2867-4889-b601-f1e6d27a6a9a')\"\n",
              "            title=\"Suggest charts\"\n",
              "            style=\"display:none;\">\n",
              "\n",
              "<svg xmlns=\"http://www.w3.org/2000/svg\" height=\"24px\"viewBox=\"0 0 24 24\"\n",
              "     width=\"24px\">\n",
              "    <g>\n",
              "        <path d=\"M19 3H5c-1.1 0-2 .9-2 2v14c0 1.1.9 2 2 2h14c1.1 0 2-.9 2-2V5c0-1.1-.9-2-2-2zM9 17H7v-7h2v7zm4 0h-2V7h2v10zm4 0h-2v-4h2v4z\"/>\n",
              "    </g>\n",
              "</svg>\n",
              "  </button>\n",
              "\n",
              "<style>\n",
              "  .colab-df-quickchart {\n",
              "      --bg-color: #E8F0FE;\n",
              "      --fill-color: #1967D2;\n",
              "      --hover-bg-color: #E2EBFA;\n",
              "      --hover-fill-color: #174EA6;\n",
              "      --disabled-fill-color: #AAA;\n",
              "      --disabled-bg-color: #DDD;\n",
              "  }\n",
              "\n",
              "  [theme=dark] .colab-df-quickchart {\n",
              "      --bg-color: #3B4455;\n",
              "      --fill-color: #D2E3FC;\n",
              "      --hover-bg-color: #434B5C;\n",
              "      --hover-fill-color: #FFFFFF;\n",
              "      --disabled-bg-color: #3B4455;\n",
              "      --disabled-fill-color: #666;\n",
              "  }\n",
              "\n",
              "  .colab-df-quickchart {\n",
              "    background-color: var(--bg-color);\n",
              "    border: none;\n",
              "    border-radius: 50%;\n",
              "    cursor: pointer;\n",
              "    display: none;\n",
              "    fill: var(--fill-color);\n",
              "    height: 32px;\n",
              "    padding: 0;\n",
              "    width: 32px;\n",
              "  }\n",
              "\n",
              "  .colab-df-quickchart:hover {\n",
              "    background-color: var(--hover-bg-color);\n",
              "    box-shadow: 0 1px 2px rgba(60, 64, 67, 0.3), 0 1px 3px 1px rgba(60, 64, 67, 0.15);\n",
              "    fill: var(--button-hover-fill-color);\n",
              "  }\n",
              "\n",
              "  .colab-df-quickchart-complete:disabled,\n",
              "  .colab-df-quickchart-complete:disabled:hover {\n",
              "    background-color: var(--disabled-bg-color);\n",
              "    fill: var(--disabled-fill-color);\n",
              "    box-shadow: none;\n",
              "  }\n",
              "\n",
              "  .colab-df-spinner {\n",
              "    border: 2px solid var(--fill-color);\n",
              "    border-color: transparent;\n",
              "    border-bottom-color: var(--fill-color);\n",
              "    animation:\n",
              "      spin 1s steps(1) infinite;\n",
              "  }\n",
              "\n",
              "  @keyframes spin {\n",
              "    0% {\n",
              "      border-color: transparent;\n",
              "      border-bottom-color: var(--fill-color);\n",
              "      border-left-color: var(--fill-color);\n",
              "    }\n",
              "    20% {\n",
              "      border-color: transparent;\n",
              "      border-left-color: var(--fill-color);\n",
              "      border-top-color: var(--fill-color);\n",
              "    }\n",
              "    30% {\n",
              "      border-color: transparent;\n",
              "      border-left-color: var(--fill-color);\n",
              "      border-top-color: var(--fill-color);\n",
              "      border-right-color: var(--fill-color);\n",
              "    }\n",
              "    40% {\n",
              "      border-color: transparent;\n",
              "      border-right-color: var(--fill-color);\n",
              "      border-top-color: var(--fill-color);\n",
              "    }\n",
              "    60% {\n",
              "      border-color: transparent;\n",
              "      border-right-color: var(--fill-color);\n",
              "    }\n",
              "    80% {\n",
              "      border-color: transparent;\n",
              "      border-right-color: var(--fill-color);\n",
              "      border-bottom-color: var(--fill-color);\n",
              "    }\n",
              "    90% {\n",
              "      border-color: transparent;\n",
              "      border-bottom-color: var(--fill-color);\n",
              "    }\n",
              "  }\n",
              "</style>\n",
              "\n",
              "  <script>\n",
              "    async function quickchart(key) {\n",
              "      const quickchartButtonEl =\n",
              "        document.querySelector('#' + key + ' button');\n",
              "      quickchartButtonEl.disabled = true;  // To prevent multiple clicks.\n",
              "      quickchartButtonEl.classList.add('colab-df-spinner');\n",
              "      try {\n",
              "        const charts = await google.colab.kernel.invokeFunction(\n",
              "            'suggestCharts', [key], {});\n",
              "      } catch (error) {\n",
              "        console.error('Error during call to suggestCharts:', error);\n",
              "      }\n",
              "      quickchartButtonEl.classList.remove('colab-df-spinner');\n",
              "      quickchartButtonEl.classList.add('colab-df-quickchart-complete');\n",
              "    }\n",
              "    (() => {\n",
              "      let quickchartButtonEl =\n",
              "        document.querySelector('#df-f7ef5cd1-2867-4889-b601-f1e6d27a6a9a button');\n",
              "      quickchartButtonEl.style.display =\n",
              "        google.colab.kernel.accessAllowed ? 'block' : 'none';\n",
              "    })();\n",
              "  </script>\n",
              "</div>\n",
              "\n",
              "    </div>\n",
              "  </div>\n"
            ],
            "application/vnd.google.colaboratory.intrinsic+json": {
              "type": "dataframe",
              "summary": "{\n  \"name\": \"display(data_filtered[['Comment', 'cleaned_comment', 'sentiment']]\",\n  \"rows\": 10,\n  \"fields\": [\n    {\n      \"column\": \"Comment\",\n      \"properties\": {\n        \"dtype\": \"string\",\n        \"num_unique_values\": 10,\n        \"samples\": [\n          \"Asli pendamping gusdur tau sejarah PKB dan ke NU an nya asli banget. Dia di usung karena sosok pribadi tapi yg lain di usung oleh sosok partai.\",\n          \"DOA A KU UNTUK BU RISMA, MOGA SUKSES ,JADI GUBERNUR\",\n          \"Preeeeet.....\"\n        ],\n        \"semantic_type\": \"\",\n        \"description\": \"\"\n      }\n    },\n    {\n      \"column\": \"cleaned_comment\",\n      \"properties\": {\n        \"dtype\": \"string\",\n        \"num_unique_values\": 10,\n        \"samples\": [\n          \"asli pendamping gusdur tau sejarah pkb dan nya asli banget dia usung karena sosok pribadi tapi lain usung oleh sosok partai\",\n          \"doa untuk risma moga sukses jadi gubernur\",\n          \"preeeeet\"\n        ],\n        \"semantic_type\": \"\",\n        \"description\": \"\"\n      }\n    },\n    {\n      \"column\": \"sentiment\",\n      \"properties\": {\n        \"dtype\": \"category\",\n        \"num_unique_values\": 2,\n        \"samples\": [\n          \"negative\",\n          \"positive\"\n        ],\n        \"semantic_type\": \"\",\n        \"description\": \"\"\n      }\n    }\n  ]\n}"
            }
          },
          "metadata": {}
        }
      ]
    },
    {
      "cell_type": "code",
      "source": [
        "# Ekstraksi fitur dengan TfidfVectorizer\n",
        "vectorizer = TfidfVectorizer(stop_words='english')\n",
        "X = vectorizer.fit_transform(data_filtered['cleaned_comment'])\n",
        "y = data_filtered['sentiment']\n",
        "\n",
        "# Split data menjadi training dan testing\n",
        "X_train, X_test, y_train, y_test = train_test_split(X, y, test_size=0.2, random_state=42)\n",
        "\n",
        "# Model Logistic Regression\n",
        "model = LogisticRegression(max_iter=200)\n",
        "model.fit(X_train, y_train)\n",
        "\n",
        "# Prediksi dan Evaluasi Model\n",
        "y_pred = model.predict(X_test)\n",
        "print(f\"Accuracy: {accuracy_score(y_test, y_pred)}\")\n",
        "print(\"Classification Report:\\n\", classification_report(y_test, y_pred))"
      ],
      "metadata": {
        "colab": {
          "base_uri": "https://localhost:8080/"
        },
        "id": "M0oCeEYGUZS-",
        "outputId": "580ccadb-938d-4adb-9ccb-006b92699833"
      },
      "execution_count": null,
      "outputs": [
        {
          "output_type": "stream",
          "name": "stdout",
          "text": [
            "Accuracy: 0.9914285714285714\n",
            "Classification Report:\n",
            "               precision    recall  f1-score   support\n",
            "\n",
            "    negative       0.00      0.00      0.00         3\n",
            "    positive       0.99      1.00      1.00       347\n",
            "\n",
            "    accuracy                           0.99       350\n",
            "   macro avg       0.50      0.50      0.50       350\n",
            "weighted avg       0.98      0.99      0.99       350\n",
            "\n"
          ]
        },
        {
          "output_type": "stream",
          "name": "stderr",
          "text": [
            "/usr/local/lib/python3.10/dist-packages/sklearn/metrics/_classification.py:1471: UndefinedMetricWarning: Precision and F-score are ill-defined and being set to 0.0 in labels with no predicted samples. Use `zero_division` parameter to control this behavior.\n",
            "  _warn_prf(average, modifier, msg_start, len(result))\n",
            "/usr/local/lib/python3.10/dist-packages/sklearn/metrics/_classification.py:1471: UndefinedMetricWarning: Precision and F-score are ill-defined and being set to 0.0 in labels with no predicted samples. Use `zero_division` parameter to control this behavior.\n",
            "  _warn_prf(average, modifier, msg_start, len(result))\n",
            "/usr/local/lib/python3.10/dist-packages/sklearn/metrics/_classification.py:1471: UndefinedMetricWarning: Precision and F-score are ill-defined and being set to 0.0 in labels with no predicted samples. Use `zero_division` parameter to control this behavior.\n",
            "  _warn_prf(average, modifier, msg_start, len(result))\n"
          ]
        }
      ]
    },
    {
      "cell_type": "code",
      "source": [
        "# Confusion Matrix\n",
        "conf_matrix = confusion_matrix(y_test, y_pred)\n",
        "plt.figure(figsize=(6, 4))\n",
        "sns.heatmap(conf_matrix, annot=True, fmt='d', cmap='Blues', xticklabels=['Negative', 'Positive'], yticklabels=['Negative', 'Positive'])\n",
        "plt.title('Confusion Matrix')\n",
        "plt.ylabel('Actual')\n",
        "plt.xlabel('Predicted')\n",
        "plt.show()"
      ],
      "metadata": {
        "colab": {
          "base_uri": "https://localhost:8080/",
          "height": 410
        },
        "id": "cx4JANtQUrry",
        "outputId": "db0fb9fa-37ce-4cba-e816-d54df0cdaffd"
      },
      "execution_count": null,
      "outputs": [
        {
          "output_type": "display_data",
          "data": {
            "text/plain": [
              "<Figure size 600x400 with 2 Axes>"
            ],
            "image/png": "[encoded data removed]"
          },
          "metadata": {}
        }
      ]
    },
    {
      "cell_type": "code",
      "source": [
        "# Visualisasi distribusi sentimen (setelah penyaringan)\n",
        "plt.figure(figsize=(10, 6))\n",
        "sns.countplot(x='sentiment', data=data_filtered)\n",
        "plt.title('Distribusi Sentimen Komentar')\n",
        "plt.xlabel('Sentimen')\n",
        "plt.ylabel('Jumlah')\n",
        "plt.show()"
      ],
      "metadata": {
        "colab": {
          "base_uri": "https://localhost:8080/",
          "height": 564
        },
        "id": "XFYHNaDoUt1h",
        "outputId": "5e3152dd-3315-41f0-ca33-6cf6775212de"
      },
      "execution_count": null,
      "outputs": [
        {
          "output_type": "display_data",
          "data": {
            "text/plain": [
              "<Figure size 1000x600 with 1 Axes>"
            ],
            "image/png": "[encoded data removed]"
          },
          "metadata": {}
        }
      ]
    },
    {
      "cell_type": "markdown",
      "source": [
        "### **KESIMPULAN**"
      ],
      "metadata": {
        "id": "wtq8nCGuU8aP"
      }
    },
    {
      "cell_type": "markdown",
      "source": [
        "Berdasarkan hasil analisis sentimen yang telah dilakukan menggunakan dua pendekatan, yaitu model sederhana berbasis keyword dan model VADER, berikut adalah kesimpulan lengkap:\n",
        "\n",
        "1. Model Sederhana Berbasis Keyword\n",
        "\n",
        "Grafik distribusi sentimen menunjukkan bahwa:\n",
        "a. Sentimen Positif Mendominasi: Lebih dari 400 komentar dikategorikan sebagai sentimen positif; komentar negatif hanya sekitar 150, menunjukkan bahwa jumlah komentar negatif lebih sedikit daripada positif.\n",
        "b. Model sederhana ini bekerja dengan mencocokkan kata-kata tertentu, seperti ('bagus', 'dukung', 'menang', 'maju', 'sukses','pilih') untuk kata kunci kalimat positif, dan ('tidak', 'kalah', 'ora', 'benci', 'bosan','anti') untuk kata kunci kalimat negatif. Akibatnya, hasilnya sangat bergantung pada cakupan kata kunci yang dipilih.\n",
        "2. Model VADER (Valence Aware Dictionary and sEntiment Reasoner)\n",
        "\n",
        "Hasil dari model VADER menunjukkan hasil yang cukup berbeda:\n",
        "a. Sentimen Positif Jauh Lebih Dominan: Model ini menganggap sebagian besar teks memiliki sentimen positif, seperti yang ditunjukkan oleh hampir 1.750 komentar positif.\n",
        "b. Sentimen Negatif Sangat Sedikit: Ada hanya lima puluh komentar negatif. Ini menunjukkan bahwa model VADER mungkin lebih toleran terhadap ekspresi yang ambigu atau netral, yang membuatnya sentimen positif.\n",
        "\n",
        "\n",
        "---\n",
        "\n",
        "\n",
        "Perbandingan Kedua Model:\n",
        "\n",
        "Jumlah Sentimen Positif pada model sederhana terdapat lebih banyak komentar negatif (sekitar 150), tetapi pada model VADER hanya ada sedikit sentimen negatif. Hasil menunjukkan bahwa komentar dengan sentimen positif sangat dominan dalam kedua model, meskipun jumlahnya lebih besar dalam model VADER.\n",
        "Kedua model ini berbeda dalam sensitivitas mereka terhadap pola bahasa. Model sederhana berbasis keyword terlalu bergantung pada kata-kata yang telah didefinisikan sebelumnya, sehingga tidak dapat mengidentifikasi perubahan yang mungkin menunjukkan sentimen tertentu. Namun, model VADER lebih luas karena dapat memahami lebih banyak aspek emosi, meskipun tampaknya lebih cenderung mengkategorikan teks sebagai positif.\n",
        "\n",
        "\n",
        "\n",
        "---\n",
        "\n",
        "\n",
        "**Kesimpulan Akhir Analisis Sentimen**\n",
        "\n",
        "Dari kedua pendekatan, jelas bahwa sebagian besar komentar cenderung positif; ini menunjukkan bahwa persepsi keseluruhan topik yang dianalisis sangat baik. Ada sedikit komentar negatif di kedua model, tetapi di model VADER ada lebih sedikit. Model VADER yang lebih berfokus pada konteks emosional secara keseluruhan daripada pencocokan kata kunci mungkin penyebabnya.\n",
        "\n"
      ],
      "metadata": {
        "id": "OzEiPD_WVA43"
      }
    }
  ]
}